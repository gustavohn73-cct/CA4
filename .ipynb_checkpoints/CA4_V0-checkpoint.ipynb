{
 "cells": [
  {
   "cell_type": "raw",
   "id": "29dd464e-a654-4118-8cfb-743f936d12c8",
   "metadata": {},
   "source": [
    "!pip install internetarchive"
   ]
  },
  {
   "cell_type": "code",
   "execution_count": 156,
   "id": "7b36d8b9-4b17-4bea-bbfd-a4beb7244d67",
   "metadata": {},
   "outputs": [],
   "source": [
    "import internetarchive\n",
    "import os\n",
    "import tarfile\n",
    "import csv\n",
    "from datetime import datetime\n",
    "from tqdm.notebook import tqdm\n",
    "import pandas as pd"
   ]
  },
  {
   "cell_type": "code",
   "execution_count": 186,
   "id": "cc07a036-7be4-41c0-92d4-c4f489a34a71",
   "metadata": {},
   "outputs": [],
   "source": [
    "def control_op(control_file):\n",
    "\n",
    "    #if file doesn't exist I'll create it\n",
    "    if not os.path.exists(control_file):\n",
    "        with open(control_file, 'w', newline='') as control_csv:\n",
    "            writer = csv.DictWriter(control_csv, fieldnames=['name','datetime'])\n",
    "            writer.writeheader()\n",
    "        control_csv.close()\n",
    "        print(\"{} created.\".format(control_file))\n",
    "            \n",
    "    #Reading the control file\n",
    "    with open(control_file, 'r', newline='') as control_csv:\n",
    "        reader = csv.DictReader(control_csv)\n",
    "        reader_data = [r for r in reader]\n",
    "        control_csv.seek(0)\n",
    "    control_csv.close()\n",
    "    \n",
    "    return reader_data"
   ]
  },
  {
   "cell_type": "code",
   "execution_count": 222,
   "id": "4887335f-3783-4a95-94c1-79c422c428f4",
   "metadata": {},
   "outputs": [],
   "source": [
    "def check_folder(name_folder):            \n",
    "    #Creating folder if that doesn't exist\n",
    "    p = %pwd\n",
    "    p = p + f'/{name_folder}'\n",
    "    path = os.path.expanduser(p)\n",
    "    if not os.path.exists(path):\n",
    "        os.makedirs(path)\n",
    "        print(\"{} created.\".format(path))\n",
    "        \n",
    "    return path"
   ]
  },
  {
   "cell_type": "code",
   "execution_count": 203,
   "id": "186417d1-fca8-4dcc-907e-da5c3591a4bf",
   "metadata": {},
   "outputs": [],
   "source": [
    "def get_file_name(item_name, ext='*tar'):\n",
    "    \n",
    "    file_names = [f.name for f in internetarchive.get_files(item_name, glob_pattern= ext)]\n",
    "    \n",
    "    return file_names"
   ]
  },
  {
   "cell_type": "code",
   "execution_count": 228,
   "id": "0502fcf3-2628-4ac4-b0d8-6145dac56060",
   "metadata": {},
   "outputs": [],
   "source": [
    "def download_file(item_name, file_name, download_folder = 'Downloads'):\n",
    "    \n",
    "    path = check_folder(download_folder)\n",
    "    \n",
    "    #calling function for getting control file\n",
    "    control_path = path + '/control_download.csv'    \n",
    "    reader_data = control_op(control_path)\n",
    "    \n",
    "    #Getteing Itens names\n",
    "    item = internetarchive.get_item(item_name)\n",
    "        \n",
    "    #openning control file to add file names on the list\n",
    "    with open(control_path, 'a', newline='') as control_download:\n",
    "        writer = csv.DictWriter(control_download, fieldnames=['name','datetime'])\n",
    "        \n",
    "        #check if the file has been downloaded before\n",
    "        if not any(row['name'] == file_name for row in reader_data):\n",
    "            \n",
    "            #downloading\n",
    "            r = item.download(\n",
    "                destdir=path,  # The directory to download files to\n",
    "                ignore_existing=True,  # Skip files that already exist locally\n",
    "                checksum=True,  # Skip files based on checksum\n",
    "                verbose=True,  # Print progress to stdout\n",
    "                retries=100,  # The number of times to retry on failed requests\n",
    "                no_directory=True,  # Download withtout the identifier\n",
    "                files = file_name)\n",
    "            \n",
    "            #Adding file name on control list\n",
    "            row = {'name' : t, 'datetime': datetime.now().strftime('%Y-%m-%d %H:%M:%S')}\n",
    "            writer.writerow(row)\n",
    "            \n",
    "    control_download.close()\n",
    "    \n",
    "    path_file = path + f'/{file_name}'\n",
    "    \n",
    "    return path_file"
   ]
  },
  {
   "cell_type": "code",
   "execution_count": 230,
   "id": "5ee9268d-0988-4248-9c72-bb22753af55b",
   "metadata": {},
   "outputs": [],
   "source": [
    "def tar_file(tar_file, file_name, extration_folder='Extration'):\n",
    "\n",
    "    path = check_folder(extration_folder)\n",
    "    \n",
    "    tar = tar_file\n",
    "    \n",
    "    #calling function for getting control file\n",
    "    control_path = path + '/control_extraction.csv'    \n",
    "    reader_data = control_op(control_path)\n",
    "\n",
    "    #openning control file to add file names on the list\n",
    "    with open(control_path, 'a', newline='') as control_tar:\n",
    "        writer = csv.DictWriter(control_tar, fieldnames=['name','datetime'])\n",
    "        \n",
    "        #check if the file has been extrated before\n",
    "        if not any(row['name'] == file_name for row in reader_data):\n",
    "\n",
    "            #Extracting file\n",
    "            tar.extract(file_name, path=path)\n",
    "\n",
    "            #Saving files name on control file\n",
    "            row = {'name' : file_name, 'datetime': datetime.now().strftime('%Y-%m-%d %H:%M:%S')}\n",
    "            writer.writerow(row)\n",
    "    control_tar.close()\n",
    "    \n",
    "    path_file = path + f'/{file_name}'\n",
    "    \n",
    "    return path_file"
   ]
  },
  {
   "cell_type": "code",
   "execution_count": 299,
   "id": "12e37500-3043-48aa-8403-3ac8f136f9ef",
   "metadata": {},
   "outputs": [],
   "source": [
    "def get_data(file_path, word_bag = False, lang = 'en'):\n",
    "    \n",
    "    #reading json\n",
    "    df = pd.read_json(file_path, lines=True, compression='gzip')\n",
    "    \n",
    "    #Filtering language\n",
    "    df = df[df.lang == lang]\n",
    "    \n",
    "    #taking away columns unnecessary\n",
    "    df = df.loc[:, ['created_at', 'text', 'entities']]\n",
    "    \n",
    "    #filtering Tweets using subject word bag if a word bag was sent\n",
    "    if not word_bag == False:\n",
    "        bow = '|'.join(word_bag) # bag of word\n",
    "        df = df[df['text'].str.contains(bow, case=False)]\n",
    "    \n",
    "    return df"
   ]
  },
  {
   "cell_type": "code",
   "execution_count": null,
   "id": "beaeee45-45c4-40ed-a224-1f768ec6c380",
   "metadata": {},
   "outputs": [],
   "source": [
    "item_name = 'archiveteam-twitter-stream-2022-10'\n",
    "\n",
    "#Getting Itens names\n",
    "file_names = get_file_name(item_name = item_name)#, ext = '*jpg')\n",
    "\n",
    "x = 0\n",
    "\n",
    "for dlf in tqdm(file_names, desc='Download progress'):\n",
    "    \n",
    "    if x < 1: #for testing \n",
    "        #downloading the file\n",
    "        file = download_file(item_name = item_name, file_name = dlf)\n",
    "\n",
    "        #Open tar file\n",
    "        tar = tarfile.open(file, \"r\")\n",
    "\n",
    "        #Getting json files' names\n",
    "        tar_file_names = list(filter(lambda t: t.endswith('.json.gz'), tar.getnames()))\n",
    "\n",
    "        for tf in tqdm(tar_file_names, desc='Unzip progress'):\n",
    "            js = tar_file(tar_file = tar, file_name = tf)\n",
    "            \n",
    "\n",
    "        tar.close()\n",
    "        \n",
    "        x =+ 1"
   ]
  },
  {
   "cell_type": "code",
   "execution_count": 301,
   "id": "15065089-2c83-41cf-9a71-65ec286b406f",
   "metadata": {},
   "outputs": [
    {
     "name": "stdout",
     "output_type": "stream",
     "text": [
      "<class 'pandas.core.frame.DataFrame'>\n",
      "Int64Index: 929 entries, 0 to 3005\n",
      "Data columns (total 3 columns):\n",
      " #   Column      Non-Null Count  Dtype              \n",
      "---  ------      --------------  -----              \n",
      " 0   created_at  929 non-null    datetime64[ns, UTC]\n",
      " 1   text        929 non-null    object             \n",
      " 2   entities    929 non-null    object             \n",
      "dtypes: datetime64[ns, UTC](1), object(2)\n",
      "memory usage: 29.0+ KB\n"
     ]
    }
   ],
   "source": [
    "file_path = '/home/hduser/Desktop/CA 2.2/Extration/20221001/20221001000000.json.gz'\n",
    "\n",
    "bow = ['vaccine', ' vac ' ]\n",
    "\n",
    "\n",
    "df = get_data(file_path = file_path)#, word_bag = bow)\n",
    "\n",
    "df.info()"
   ]
  },
  {
   "cell_type": "code",
   "execution_count": 259,
   "id": "81d46bd0-df23-4fd4-84af-b03a94c1ec54",
   "metadata": {},
   "outputs": [
    {
     "name": "stdout",
     "output_type": "stream",
     "text": [
      "<class 'pandas.core.frame.DataFrame'>\n",
      "Int64Index: 4 entries, 244 to 2267\n",
      "Data columns (total 2 columns):\n",
      " #   Column      Non-Null Count  Dtype              \n",
      "---  ------      --------------  -----              \n",
      " 0   created_at  4 non-null      datetime64[ns, UTC]\n",
      " 1   text        4 non-null      object             \n",
      "dtypes: datetime64[ns, UTC](1), object(1)\n",
      "memory usage: 96.0+ bytes\n"
     ]
    }
   ],
   "source": [
    "bow = '|'.join(['vaccine', ' vac ' ]) # bag of word\n",
    "df_f = df[df['text'].str.contains(bow, case=False)]\n",
    "df_f.info()"
   ]
  },
  {
   "cell_type": "code",
   "execution_count": 293,
   "id": "450cd3ac-39e8-4885-8933-34e09b52d3ac",
   "metadata": {},
   "outputs": [
    {
     "data": {
      "text/plain": [
       "{'hashtags': [{'text': 'LISA', 'indices': [33, 38]},\n",
       "  {'text': 'MONEY', 'indices': [39, 45]},\n",
       "  {'text': 'LALISA', 'indices': [46, 53]}],\n",
       " 'urls': [],\n",
       " 'user_mentions': [{'screen_name': 'TheManoban_Walk',\n",
       "   'name': \"💍 Manoban's walk\",\n",
       "   'id': 1468880172199800832,\n",
       "   'id_str': '1468880172199800832',\n",
       "   'indices': [3, 19]}],\n",
       " 'symbols': [],\n",
       " 'media': [{'id': 1575793530974666752,\n",
       "   'id_str': '1575793530974666752',\n",
       "   'indices': [54, 77],\n",
       "   'media_url': 'http://pbs.twimg.com/media/Fd5X3hUagAAJjZo.jpg',\n",
       "   'media_url_https': 'https://pbs.twimg.com/media/Fd5X3hUagAAJjZo.jpg',\n",
       "   'url': 'https://t.co/iFFsTyTSke',\n",
       "   'display_url': 'pic.twitter.com/iFFsTyTSke',\n",
       "   'expanded_url': 'https://twitter.com/TheManoban_Walk/status/1575793533679591424/photo/1',\n",
       "   'type': 'photo',\n",
       "   'sizes': {'large': {'w': 772, 'h': 1114, 'resize': 'fit'},\n",
       "    'thumb': {'w': 150, 'h': 150, 'resize': 'crop'},\n",
       "    'small': {'w': 471, 'h': 680, 'resize': 'fit'},\n",
       "    'medium': {'w': 772, 'h': 1114, 'resize': 'fit'}},\n",
       "   'source_status_id': 1575793533679591424,\n",
       "   'source_status_id_str': '1575793533679591424',\n",
       "   'source_user_id': 1468880172199800832,\n",
       "   'source_user_id_str': '1468880172199800832'}]}"
      ]
     },
     "execution_count": 293,
     "metadata": {},
     "output_type": "execute_result"
    }
   ],
   "source": [
    "df.entities[1760]"
   ]
  },
  {
   "cell_type": "code",
   "execution_count": 294,
   "id": "fa5904c3-374d-43aa-9d3d-afb831cd377c",
   "metadata": {},
   "outputs": [
    {
     "data": {
      "text/plain": [
       "'RT @TheManoban_Walk: Oh my.. 😳💖\\n\\n#LISA #MONEY #LALISA https://t.co/iFFsTyTSke'"
      ]
     },
     "execution_count": 294,
     "metadata": {},
     "output_type": "execute_result"
    }
   ],
   "source": [
    "df.text[1760]"
   ]
  },
  {
   "cell_type": "code",
   "execution_count": null,
   "id": "e05ec464-0dff-4329-88c9-ce6b8266c4c7",
   "metadata": {},
   "outputs": [],
   "source": []
  }
 ],
 "metadata": {
  "kernelspec": {
   "display_name": "Python 3 (ipykernel)",
   "language": "python",
   "name": "python3"
  },
  "language_info": {
   "codemirror_mode": {
    "name": "ipython",
    "version": 3
   },
   "file_extension": ".py",
   "mimetype": "text/x-python",
   "name": "python",
   "nbconvert_exporter": "python",
   "pygments_lexer": "ipython3",
   "version": "3.9.13"
  }
 },
 "nbformat": 4,
 "nbformat_minor": 5
}

{
 "cells": [
  {
   "cell_type": "code",
   "execution_count": 1,
   "id": "f26d60e1-9716-4cd4-ad0d-7bf7269dbe17",
   "metadata": {},
   "outputs": [],
   "source": [
    "#Spark\n",
    "from pyspark.sql import SparkSession\n",
    "from pyspark.sql.window import Window\n",
    "from pyspark import SparkConf\n",
    "\n",
    "#Hadoop\n",
    "from hdfs import InsecureClient\n",
    "\n",
    "#Spark SQL functions\n",
    "from pyspark.sql.functions import *\n",
    "from pyspark.sql.functions import from_utc_timestamp, udf, array_distinct, col, when\n",
    "from pyspark.sql.functions import regexp_replace, year, month, dayofmonth, hour, format_string\n",
    "from pyspark.sql.functions import monotonically_increasing_id\n",
    "\n",
    "# Spark Datatypes\n",
    "from pyspark.sql.types import StringType, TimestampType, DateType, IntegerType\n",
    "from pyspark.sql.types import DoubleType, StructType, FloatType, StructField\n",
    "\n",
    "\n",
    "#Pandas\n",
    "import pandas as pd\n"
   ]
  },
  {
   "cell_type": "markdown",
   "id": "eb4246a1-b704-46c0-8590-be340b87db06",
   "metadata": {},
   "source": [
    "## Warnings conf"
   ]
  },
  {
   "cell_type": "markdown",
   "id": "0e9ebf80-6037-43bc-9610-16895183085f",
   "metadata": {},
   "source": [
    "In this sections the warnings are suppressed, less logs while running the code"
   ]
  },
  {
   "cell_type": "code",
   "execution_count": 2,
   "id": "5bbfb317-e18c-4b37-915a-f1cd1667f09a",
   "metadata": {},
   "outputs": [],
   "source": [
    "import warnings\n",
    "\n",
    "# Suppressing the warnings\n",
    "warnings.filterwarnings('ignore') \n"
   ]
  },
  {
   "cell_type": "markdown",
   "id": "196f824b-eef2-4278-8377-8c3e60bb6d5e",
   "metadata": {},
   "source": [
    "# Data Loading"
   ]
  },
  {
   "cell_type": "markdown",
   "id": "ba18857e-2639-4765-9727-0de7c0a65bd8",
   "metadata": {},
   "source": [
    "## Reading Data from Hadoop"
   ]
  },
  {
   "cell_type": "markdown",
   "id": "3b4ac4e5-930b-4dc5-bf57-468ddca9a0ca",
   "metadata": {},
   "source": [
    "In this section we are reading data from Hadoop, using a Spark Session."
   ]
  },
  {
   "cell_type": "markdown",
   "id": "bf1d844b-20f7-40a4-b2da-6ab7aa490c7a",
   "metadata": {},
   "source": [
    "### Spark configurations and Connection"
   ]
  },
  {
   "cell_type": "code",
   "execution_count": 3,
   "id": "35a2d63b-680b-4a7c-b4da-d9ada6d8a979",
   "metadata": {},
   "outputs": [
    {
     "name": "stderr",
     "output_type": "stream",
     "text": [
      "2023-05-26 11:24:10,662 WARN util.Utils: Your hostname, BDS-2023 resolves to a loopback address: 127.0.1.1; using 192.168.0.122 instead (on interface wlo1)\n",
      "2023-05-26 11:24:10,663 WARN util.Utils: Set SPARK_LOCAL_IP if you need to bind to another address\n",
      "Setting default log level to \"WARN\".\n",
      "To adjust logging level use sc.setLogLevel(newLevel). For SparkR, use setLogLevel(newLevel).\n",
      "2023-05-26 11:24:11,409 WARN util.NativeCodeLoader: Unable to load native-hadoop library for your platform... using builtin-java classes where applicable\n"
     ]
    }
   ],
   "source": [
    "def spark_start(restart = False, appname=\"HadoopAccess\"):\n",
    "\n",
    "    if restart == True:\n",
    "        spark.stop()\n",
    "    \n",
    "    # Configuration parameters for Spark\n",
    "    spark_conf = SparkConf().setMaster(\"local[*]\").setAppName(appname)\n",
    "\n",
    "    # Using SparkSession\n",
    "    spark = SparkSession.builder.config(conf=spark_conf).config('spark.sql.session.timeZone', 'UTC').getOrCreate()\n",
    "    \n",
    "    return spark\n",
    "\n",
    "\n",
    "spark = spark_start()\n",
    "\n",
    " # this will help not to have too much error displaying\n",
    "sc = spark.sparkContext\n",
    "sc.setLogLevel('ERROR')\n"
   ]
  },
  {
   "cell_type": "markdown",
   "id": "0350bdc0-9837-4bea-9e9a-559ab6d04a14",
   "metadata": {},
   "source": [
    "# Creating Models in Spark"
   ]
  },
  {
   "cell_type": "raw",
   "id": "c44fbb11-d548-4325-9f74-d9dd40416131",
   "metadata": {},
   "source": [
    "#restarting Spark conection\n",
    "spark = spark_start(restart=True)"
   ]
  },
  {
   "cell_type": "code",
   "execution_count": 4,
   "id": "35d9082a-5653-45af-874d-21b02583b0a7",
   "metadata": {},
   "outputs": [
    {
     "name": "stderr",
     "output_type": "stream",
     "text": [
      "                                                                                \r"
     ]
    }
   ],
   "source": [
    "#Reading all parquets file in the folder tweets on Hadoop\n",
    "tweets_pred_saved = spark.read.parquet(\"/CA4/sentiment/**/*.parquet\")"
   ]
  },
  {
   "cell_type": "markdown",
   "id": "47771e69-278f-4d93-b59e-2d8fe4407d17",
   "metadata": {},
   "source": [
    "## Binary Sentiment"
   ]
  },
  {
   "cell_type": "markdown",
   "id": "5af42d8f-06e6-4c16-8dfd-bf020803eef0",
   "metadata": {},
   "source": [
    "### creating a binary sentiment"
   ]
  },
  {
   "cell_type": "markdown",
   "id": "9f4631eb-76d7-489c-9a52-f4a58f8a50f9",
   "metadata": {},
   "source": [
    "The binary sentiment is being created using the score to define whether it is negative(0) or positive(1)."
   ]
  },
  {
   "cell_type": "code",
   "execution_count": 5,
   "id": "0c2edd60-8832-4b26-b5b5-cfc7fdd21d1b",
   "metadata": {
    "tags": []
   },
   "outputs": [],
   "source": [
    "#getting sentiment\n",
    "tweets_fc_df = tweets_pred_saved.withColumn('sentiment',when(col(\"score\") > 0, '1').otherwise('0'))"
   ]
  },
  {
   "cell_type": "code",
   "execution_count": 6,
   "id": "ce0771a4-5056-4379-9a34-a0e5e34bb396",
   "metadata": {},
   "outputs": [
    {
     "name": "stdout",
     "output_type": "stream",
     "text": [
      "root\n",
      " |-- created_at: timestamp (nullable = true)\n",
      " |-- text: string (nullable = true)\n",
      " |-- cleaned_text: string (nullable = true)\n",
      " |-- entities: string (nullable = true)\n",
      " |-- prediction: double (nullable = true)\n",
      " |-- textblob: string (nullable = true)\n",
      " |-- vader: string (nullable = true)\n",
      " |-- score: double (nullable = true)\n",
      " |-- sentiment: string (nullable = false)\n",
      "\n"
     ]
    }
   ],
   "source": [
    "tweets_fc_df.printSchema()"
   ]
  },
  {
   "cell_type": "code",
   "execution_count": 7,
   "id": "a0c84f76-f8c4-46f6-88e0-574de3e832ea",
   "metadata": {},
   "outputs": [],
   "source": [
    "tweets_fc = tweets_fc_df.withColumn(\"RT\", when(col(\"text\").startswith(\"RT\"), 1).otherwise(0))"
   ]
  },
  {
   "cell_type": "raw",
   "id": "33ded728-126f-48be-8c8d-4072885fe697",
   "metadata": {},
   "source": [
    "tweets_fc.select(\"urls\").collect()[3]"
   ]
  },
  {
   "cell_type": "code",
   "execution_count": 8,
   "id": "b522c034-192d-4387-b111-a1e7495adeb3",
   "metadata": {},
   "outputs": [
    {
     "name": "stdout",
     "output_type": "stream",
     "text": [
      "root\n",
      " |-- year: integer (nullable = true)\n",
      " |-- month: integer (nullable = true)\n",
      " |-- day: integer (nullable = true)\n",
      " |-- date: date (nullable = true)\n",
      " |-- hour: integer (nullable = true)\n",
      " |-- sentiment: string (nullable = false)\n",
      " |-- hourly_score: double (nullable = true)\n",
      " |-- count_score: long (nullable = false)\n",
      " |-- sum_RT: long (nullable = true)\n",
      "\n"
     ]
    },
    {
     "name": "stderr",
     "output_type": "stream",
     "text": [
      "\r",
      "[Stage 2:>                                                          (0 + 8) / 8]\r"
     ]
    },
    {
     "name": "stdout",
     "output_type": "stream",
     "text": [
      "+----+-----+---+----------+----+---------+--------------------+-----------+------+\n",
      "|year|month|day|      date|hour|sentiment|        hourly_score|count_score|sum_RT|\n",
      "+----+-----+---+----------+----+---------+--------------------+-----------+------+\n",
      "|2021|   11|  1|2021-11-01|   0|        0|-0.11364917380729236|         97|    67|\n",
      "|2021|   11|  1|2021-11-01|   0|        1|   0.216212583461736|         59|    46|\n",
      "+----+-----+---+----------+----+---------+--------------------+-----------+------+\n",
      "only showing top 2 rows\n",
      "\n"
     ]
    },
    {
     "name": "stderr",
     "output_type": "stream",
     "text": [
      "\r",
      "                                                                                \r"
     ]
    }
   ],
   "source": [
    "spark.conf.set(\"spark.sql.legacy.timeParserPolicy\",\"LEGACY\")\n",
    "\n",
    "from pyspark.sql.functions import year, month, dayofmonth, hour, col, mean, count, to_date\n",
    "from pyspark.sql.functions import sum as spark_sum\n",
    "\n",
    "\n",
    "tweets_hour = tweets_fc.groupBy(year(\"created_at\").alias(\"year\"), \n",
    "                               month(\"created_at\").alias(\"month\"),\n",
    "                               dayofmonth(\"created_at\").alias(\"day\"),\n",
    "                               to_date(col(\"created_at\")).alias(\"date\"),\n",
    "                               hour(\"created_at\").alias(\"hour\"),\n",
    "                               \"sentiment\") \\\n",
    "                      .agg(mean(col(\"score\")).alias(\"hourly_score\"),\n",
    "                           count(col(\"score\")).alias(\"count_score\"),\n",
    "                           spark_sum(col(\"RT\")).alias(\"sum_RT\"))\\\n",
    "                      .orderBy(\"year\", \"month\", \"day\", \"hour\")\n",
    "tweets_hour.printSchema()\n",
    "\n",
    "tweets_hour.show(2)"
   ]
  },
  {
   "cell_type": "code",
   "execution_count": 9,
   "id": "b8594bdf",
   "metadata": {},
   "outputs": [
    {
     "name": "stdout",
     "output_type": "stream",
     "text": [
      "Total of Tweets:763,266\n",
      "Average of 2,091 tweets per day (365 total)\n"
     ]
    }
   ],
   "source": [
    "total_tweets = tweets_fc.count()\n",
    "print(f\"Total of Tweets:{total_tweets:,}\")\n",
    "\n",
    "days = tweets_fc.select(to_date(col(\"created_at\")).alias(\"data\")).agg(countDistinct(\"data\").alias(\"total_dias\")).first()[\"total_dias\"]\n",
    "mean_tweets = total_tweets / days\n",
    "print(f\"Average of {mean_tweets:,.0f} tweets per day ({days} total)\")\n"
   ]
  },
  {
   "cell_type": "code",
   "execution_count": 10,
   "id": "3c248f9f",
   "metadata": {
    "scrolled": true
   },
   "outputs": [
    {
     "name": "stderr",
     "output_type": "stream",
     "text": [
      "                                                                                \r"
     ]
    }
   ],
   "source": [
    "tweets_hour_pd = tweets_hour.toPandas()"
   ]
  },
  {
   "cell_type": "code",
   "execution_count": 11,
   "id": "88388661",
   "metadata": {
    "scrolled": true
   },
   "outputs": [
    {
     "data": {
      "text/html": [
       "<div>\n",
       "<style scoped>\n",
       "    .dataframe tbody tr th:only-of-type {\n",
       "        vertical-align: middle;\n",
       "    }\n",
       "\n",
       "    .dataframe tbody tr th {\n",
       "        vertical-align: top;\n",
       "    }\n",
       "\n",
       "    .dataframe thead th {\n",
       "        text-align: right;\n",
       "    }\n",
       "</style>\n",
       "<table border=\"1\" class=\"dataframe\">\n",
       "  <thead>\n",
       "    <tr style=\"text-align: right;\">\n",
       "      <th></th>\n",
       "      <th>year</th>\n",
       "      <th>month</th>\n",
       "      <th>day</th>\n",
       "      <th>date</th>\n",
       "      <th>hour</th>\n",
       "      <th>sentiment</th>\n",
       "      <th>hourly_score</th>\n",
       "      <th>count_score</th>\n",
       "      <th>sum_RT</th>\n",
       "      <th>min_hour</th>\n",
       "      <th>max_hour</th>\n",
       "      <th>hour_scaled</th>\n",
       "      <th>day_of_week</th>\n",
       "    </tr>\n",
       "  </thead>\n",
       "  <tbody>\n",
       "    <tr>\n",
       "      <th>0</th>\n",
       "      <td>2021</td>\n",
       "      <td>11</td>\n",
       "      <td>1</td>\n",
       "      <td>2021-11-01</td>\n",
       "      <td>0</td>\n",
       "      <td>Positive</td>\n",
       "      <td>0.216213</td>\n",
       "      <td>59</td>\n",
       "      <td>46</td>\n",
       "      <td>1</td>\n",
       "      <td>164</td>\n",
       "      <td>0.355828</td>\n",
       "      <td>Monday</td>\n",
       "    </tr>\n",
       "    <tr>\n",
       "      <th>1</th>\n",
       "      <td>2021</td>\n",
       "      <td>11</td>\n",
       "      <td>1</td>\n",
       "      <td>2021-11-01</td>\n",
       "      <td>0</td>\n",
       "      <td>Negative</td>\n",
       "      <td>-0.113649</td>\n",
       "      <td>97</td>\n",
       "      <td>67</td>\n",
       "      <td>3</td>\n",
       "      <td>226</td>\n",
       "      <td>0.421525</td>\n",
       "      <td>Monday</td>\n",
       "    </tr>\n",
       "    <tr>\n",
       "      <th>2</th>\n",
       "      <td>2021</td>\n",
       "      <td>11</td>\n",
       "      <td>1</td>\n",
       "      <td>2021-11-01</td>\n",
       "      <td>1</td>\n",
       "      <td>Positive</td>\n",
       "      <td>0.168420</td>\n",
       "      <td>69</td>\n",
       "      <td>48</td>\n",
       "      <td>5</td>\n",
       "      <td>173</td>\n",
       "      <td>0.380952</td>\n",
       "      <td>Monday</td>\n",
       "    </tr>\n",
       "    <tr>\n",
       "      <th>3</th>\n",
       "      <td>2021</td>\n",
       "      <td>11</td>\n",
       "      <td>1</td>\n",
       "      <td>2021-11-01</td>\n",
       "      <td>1</td>\n",
       "      <td>Negative</td>\n",
       "      <td>-0.122941</td>\n",
       "      <td>86</td>\n",
       "      <td>62</td>\n",
       "      <td>5</td>\n",
       "      <td>238</td>\n",
       "      <td>0.347639</td>\n",
       "      <td>Monday</td>\n",
       "    </tr>\n",
       "    <tr>\n",
       "      <th>4</th>\n",
       "      <td>2021</td>\n",
       "      <td>11</td>\n",
       "      <td>1</td>\n",
       "      <td>2021-11-01</td>\n",
       "      <td>2</td>\n",
       "      <td>Negative</td>\n",
       "      <td>-0.095417</td>\n",
       "      <td>80</td>\n",
       "      <td>56</td>\n",
       "      <td>2</td>\n",
       "      <td>175</td>\n",
       "      <td>0.450867</td>\n",
       "      <td>Monday</td>\n",
       "    </tr>\n",
       "    <tr>\n",
       "      <th>5</th>\n",
       "      <td>2021</td>\n",
       "      <td>11</td>\n",
       "      <td>1</td>\n",
       "      <td>2021-11-01</td>\n",
       "      <td>2</td>\n",
       "      <td>Positive</td>\n",
       "      <td>0.198560</td>\n",
       "      <td>65</td>\n",
       "      <td>48</td>\n",
       "      <td>4</td>\n",
       "      <td>155</td>\n",
       "      <td>0.403974</td>\n",
       "      <td>Monday</td>\n",
       "    </tr>\n",
       "    <tr>\n",
       "      <th>6</th>\n",
       "      <td>2021</td>\n",
       "      <td>11</td>\n",
       "      <td>1</td>\n",
       "      <td>2021-11-01</td>\n",
       "      <td>3</td>\n",
       "      <td>Negative</td>\n",
       "      <td>-0.112407</td>\n",
       "      <td>73</td>\n",
       "      <td>48</td>\n",
       "      <td>6</td>\n",
       "      <td>216</td>\n",
       "      <td>0.319048</td>\n",
       "      <td>Monday</td>\n",
       "    </tr>\n",
       "    <tr>\n",
       "      <th>7</th>\n",
       "      <td>2021</td>\n",
       "      <td>11</td>\n",
       "      <td>1</td>\n",
       "      <td>2021-11-01</td>\n",
       "      <td>3</td>\n",
       "      <td>Positive</td>\n",
       "      <td>0.223755</td>\n",
       "      <td>60</td>\n",
       "      <td>44</td>\n",
       "      <td>4</td>\n",
       "      <td>137</td>\n",
       "      <td>0.421053</td>\n",
       "      <td>Monday</td>\n",
       "    </tr>\n",
       "    <tr>\n",
       "      <th>8</th>\n",
       "      <td>2021</td>\n",
       "      <td>11</td>\n",
       "      <td>1</td>\n",
       "      <td>2021-11-01</td>\n",
       "      <td>4</td>\n",
       "      <td>Positive</td>\n",
       "      <td>0.214048</td>\n",
       "      <td>46</td>\n",
       "      <td>30</td>\n",
       "      <td>2</td>\n",
       "      <td>136</td>\n",
       "      <td>0.328358</td>\n",
       "      <td>Monday</td>\n",
       "    </tr>\n",
       "    <tr>\n",
       "      <th>9</th>\n",
       "      <td>2021</td>\n",
       "      <td>11</td>\n",
       "      <td>1</td>\n",
       "      <td>2021-11-01</td>\n",
       "      <td>4</td>\n",
       "      <td>Negative</td>\n",
       "      <td>-0.147583</td>\n",
       "      <td>59</td>\n",
       "      <td>45</td>\n",
       "      <td>4</td>\n",
       "      <td>171</td>\n",
       "      <td>0.329341</td>\n",
       "      <td>Monday</td>\n",
       "    </tr>\n",
       "  </tbody>\n",
       "</table>\n",
       "</div>"
      ],
      "text/plain": [
       "   year  month  day        date  hour sentiment  hourly_score  count_score  \\\n",
       "0  2021     11    1  2021-11-01     0  Positive      0.216213           59   \n",
       "1  2021     11    1  2021-11-01     0  Negative     -0.113649           97   \n",
       "2  2021     11    1  2021-11-01     1  Positive      0.168420           69   \n",
       "3  2021     11    1  2021-11-01     1  Negative     -0.122941           86   \n",
       "4  2021     11    1  2021-11-01     2  Negative     -0.095417           80   \n",
       "5  2021     11    1  2021-11-01     2  Positive      0.198560           65   \n",
       "6  2021     11    1  2021-11-01     3  Negative     -0.112407           73   \n",
       "7  2021     11    1  2021-11-01     3  Positive      0.223755           60   \n",
       "8  2021     11    1  2021-11-01     4  Positive      0.214048           46   \n",
       "9  2021     11    1  2021-11-01     4  Negative     -0.147583           59   \n",
       "\n",
       "   sum_RT  min_hour  max_hour  hour_scaled day_of_week  \n",
       "0      46         1       164     0.355828      Monday  \n",
       "1      67         3       226     0.421525      Monday  \n",
       "2      48         5       173     0.380952      Monday  \n",
       "3      62         5       238     0.347639      Monday  \n",
       "4      56         2       175     0.450867      Monday  \n",
       "5      48         4       155     0.403974      Monday  \n",
       "6      48         6       216     0.319048      Monday  \n",
       "7      44         4       137     0.421053      Monday  \n",
       "8      30         2       136     0.328358      Monday  \n",
       "9      45         4       171     0.329341      Monday  "
      ]
     },
     "execution_count": 11,
     "metadata": {},
     "output_type": "execute_result"
    }
   ],
   "source": [
    "dataset_scaled_EDA = tweets_hour_pd.copy()\n",
    "\n",
    "# min max value calculation\n",
    "dataset_scaled_EDA['min_hour'] = dataset_scaled_EDA.groupby(['hour','sentiment'])[['count_score']] \\\n",
    "                                    .transform(lambda x: x.min())\n",
    "dataset_scaled_EDA['max_hour'] = dataset_scaled_EDA.groupby(['hour','sentiment'])[['count_score']] \\\n",
    "                                    .transform(lambda x: x.max())\n",
    "\n",
    "# scale\n",
    "dataset_scaled_EDA['hour_scaled'] = (dataset_scaled_EDA['count_score'] - dataset_scaled_EDA['min_hour'])/(dataset_scaled_EDA['max_hour'] - dataset_scaled_EDA['min_hour'])\n",
    "\n",
    "# add info about year, week of year and day of week\n",
    "dataset_scaled_EDA['day_of_week'] = [d.strftime('%A') for d in dataset_scaled_EDA['date']]\n",
    "dataset_scaled_EDA['day_of_week'] = pd.Categorical(dataset_scaled_EDA['day_of_week'], \n",
    "  categories=['Monday', 'Tuesday', 'Wednesday', 'Thursday', 'Friday', 'Saturday', 'Sunday'], \n",
    "  ordered=True)\n",
    "\n",
    "dataset_scaled_EDA['sentiment'] = dataset_scaled_EDA['sentiment'].apply(lambda x: 'Positive' if x == '1' else 'Negative')\n",
    "dataset_scaled_EDA.head(10) "
   ]
  },
  {
   "cell_type": "code",
   "execution_count": 12,
   "id": "edb7fab1",
   "metadata": {},
   "outputs": [],
   "source": [
    "df = dataset_scaled_EDA.copy()"
   ]
  },
  {
   "cell_type": "code",
   "execution_count": 55,
   "id": "f6a4b78f",
   "metadata": {},
   "outputs": [],
   "source": [
    "import pandas as pd\n",
    "import dash\n",
    "from jupyter_dash import JupyterDash\n",
    "import dash_bootstrap_components as dbc\n",
    "import dash_core_components as dcc\n",
    "import dash_html_components as html\n",
    "from dash_bootstrap_templates import load_figure_template\n",
    "\n",
    "import numpy as np\n",
    "import plotly.graph_objs as go\n",
    "import plotly.express as px\n",
    "from dash.dependencies import Input,Output\n",
    "from dash import callback_context\n"
   ]
  },
  {
   "cell_type": "code",
   "execution_count": 56,
   "id": "591d9dc9",
   "metadata": {},
   "outputs": [],
   "source": [
    "load_figure_template('sketchy')"
   ]
  },
  {
   "cell_type": "code",
   "execution_count": 84,
   "id": "51e2cdc8",
   "metadata": {},
   "outputs": [],
   "source": [
    "#Size for the balls\n",
    "size_scale = 10\n",
    "df['ball_size'] = df['hourly_score'].abs() * size_scale"
   ]
  },
  {
   "cell_type": "code",
   "execution_count": 57,
   "id": "db152c12",
   "metadata": {},
   "outputs": [],
   "source": [
    "fig1 = px.scatter(tweets_hour_pd, x= 'date', y = 'count_score', color = 'sentiment')\n",
    "\n",
    "SIDEBAR_STYLE = {\n",
    "    \"position\": \"fixed\",\n",
    "    \"top\": 0,\n",
    "    \"left\": 0,\n",
    "    \"bottom\": 0,\n",
    "    \"width\": \"24rem\",\n",
    "    \"padding\": \"2rem 1rem\",\n",
    "    \"background-color\": \"#f8f9fa\",\n",
    "}\n",
    "\n",
    "\n",
    "sidebar = html.Div(\n",
    "    [\n",
    "        html.H2(\"Filters\"),\n",
    "        html.Hr(),\n",
    "        html.P(\n",
    "            \"A simple sidebar layout with filters\", className=\"lead\"\n",
    "        ),\n",
    "        dbc.Nav(\n",
    "            [\n",
    "                dcc.Dropdown(id = 'one'),\n",
    "                html.Br(),\n",
    "\n",
    "            ],\n",
    "            vertical=True,\n",
    "            pills=True,\n",
    "        ),\n",
    "    ],\n",
    "    style=SIDEBAR_STYLE,\n",
    "\n",
    ")"
   ]
  },
  {
   "cell_type": "code",
   "execution_count": 58,
   "id": "d8fb7df7",
   "metadata": {},
   "outputs": [],
   "source": [
    "def Plot_box(df, y, x, color, title, xaxis_title_text, yaxis_title_text, legend_title_text):\n",
    "    fig = px.box(df,\n",
    "                 y= y, \n",
    "                 x= x, \n",
    "                 orientation='v', \n",
    "                 color= color,\n",
    "                 notched=True)\n",
    "\n",
    "    fig.update_layout(\n",
    "        showlegend=True,\n",
    "        title_text=title,\n",
    "        title_font_color='#333333',\n",
    "        #width = 1200,\n",
    "        #height=500,\n",
    "        plot_bgcolor='white',\n",
    "        xaxis_title_font_color='grey',\n",
    "        yaxis_title_font_color='grey',\n",
    "        yaxis_color='grey',\n",
    "        xaxis_color='grey',\n",
    "        xaxis_title_text = xaxis_title_text,\n",
    "        yaxis_title_text = yaxis_title_text,\n",
    "        xaxis_gridcolor = '#F7FCF0',\n",
    "        xaxis_linecolor = '#F7FCF0',\n",
    "        coloraxis_showscale=False,\n",
    "        legend_title_text= legend_title_text)\n",
    "\n",
    "    fig.update_xaxes(categoryorder='total descending')\n",
    "    \n",
    "    return fig\n",
    "\n",
    "\n",
    "def generate_table(dataframe, max_rows=10):\n",
    "    limited_dataframe = dataframe.head(max_rows)\n",
    "    \n",
    "    return html.Table([\n",
    "        html.Thead(\n",
    "            html.Tr([html.Th(col) for col in limited_dataframe.columns])\n",
    "        ),\n",
    "        html.Tbody([\n",
    "            html.Tr([\n",
    "                html.Td(limited_dataframe.iloc[i][col]) for col in limited_dataframe.columns\n",
    "            ]) for i in range(len(limited_dataframe))\n",
    "        ])\n",
    "    ])"
   ]
  },
  {
   "cell_type": "code",
   "execution_count": 59,
   "id": "0f18e85a",
   "metadata": {},
   "outputs": [],
   "source": [
    "card_inicial = dbc.Card(\n",
    "    [\n",
    "        dbc.Row(\n",
    "            [\n",
    "                 dbc.Col(\n",
    "                    dbc.CardImg(\n",
    "                        src=\"https://www.cct.ie/wp-content/uploads/CCT_Logo_New_Aug_17-2.jpg\",\n",
    "                        className=\"img-fluid rounded-start\",\n",
    "                    ),\n",
    "                    className=\"col-md-4\",\n",
    "                ),\n",
    "                \n",
    "                dbc.Col(\n",
    "                    dbc.CardBody(\n",
    "                        [\n",
    "                            html.P(\"Twitter Analytics for\", className=\"card-title mx-auto\"),\n",
    "                            html.H1(\"Vaccine\", className=\"text-primary mx-auto\"),\n",
    "                        ]\n",
    "                    ),\n",
    "                    className=\"col-md-8 mx-auto\",\n",
    "                ),\n",
    "            ],\n",
    "            className=\"g-0 d-flex align-items-center\",\n",
    "        )\n",
    "    ],\n",
    "    className=\"mb-3\",\n",
    "    style={'width': '95%', 'margin': '0 auto'},\n",
    ")\n"
   ]
  },
  {
   "cell_type": "code",
   "execution_count": 60,
   "id": "8bb32083",
   "metadata": {},
   "outputs": [],
   "source": [
    "#total_tweets, days, mean_tweets\n",
    "\n",
    "cards_total_tweets = dbc.Card(\n",
    "    dbc.CardBody(\n",
    "        [\n",
    "            html.P('Total of Tweets', className=\"card-text text-center align-middle\"),\n",
    "            html.H1('{:,.0f}'.format(total_tweets), className=\"text-primary text-center card-title-large align-middle\"),\n",
    "        ]\n",
    "    ),\n",
    "    style={\"width\": \"100%\"},\n",
    ")\n",
    "\n",
    "cards_days = dbc.Card(\n",
    "    dbc.CardBody(\n",
    "        [\n",
    "            html.P('Total of Days', className=\"card-text text-center align-middle\"),\n",
    "            html.H1(days, className=\"text-primary text-center card-title-large align-middle\"),\n",
    "        ]\n",
    "    ),\n",
    "    style={\"width\": \"100%\"},\n",
    ")\n",
    "\n",
    "cards_mean_tweets = dbc.Card(\n",
    "    dbc.CardBody(\n",
    "        [\n",
    "            html.P('Tweets per Day', className=\"card-text text-center align-middle\"),\n",
    "            html.H1('{:,.2f}'.format(mean_tweets), className=\"text-primary text-center card-title-large align-middle\"),\n",
    "        ]\n",
    "    ),\n",
    "    style={\"width\": \"100%\"},\n",
    ")\n",
    "\n",
    "row_1 = dbc.Row(\n",
    "    [\n",
    "        dbc.Col(dbc.Card(cards_total_tweets, color=\"primary\", outline=True)),\n",
    "        dbc.Col(dbc.Card(cards_days, color=\"primary\", outline=True)),\n",
    "        dbc.Col(dbc.Card(cards_mean_tweets, color=\"primary\", outline=True)),\n",
    "    ],\n",
    "    className=\"mb-4\",\n",
    "    justify=\"evenly\",\n",
    "    style={'width': '97%', 'margin': '0 auto'},\n",
    ")\n"
   ]
  },
  {
   "cell_type": "code",
   "execution_count": 79,
   "id": "06233a92",
   "metadata": {},
   "outputs": [],
   "source": [
    "row_2 = dbc.Card(\n",
    "    dbc.CardBody(\n",
    "        [\n",
    "            dbc.CardHeader([\n",
    "            html.H2(\"Tweet Timeline\", className=\"text-primary text-start card-title-large align-middle\"),\n",
    "            ]),\n",
    "            dcc.Graph(\n",
    "                id='tweet-timeline-plot',\n",
    "                figure=px.line(df, \n",
    "                               x='date', \n",
    "                               y='count_score',\n",
    "                               labels={\"date\": \"Date\", \n",
    "                                       \"hour_scaled\": \"Count\"},\n",
    "                              )\n",
    "            )\n",
    "        ]\n",
    "     ),\n",
    "    className=\"mb-4\",\n",
    "    style={'width': '95%', 'margin': '0 auto'},\n",
    "    color=\"primary\", \n",
    "    outline=True ,\n",
    ")"
   ]
  },
  {
   "cell_type": "code",
   "execution_count": 94,
   "id": "9e929325",
   "metadata": {},
   "outputs": [],
   "source": [
    "graf_3_1 = dbc.Card(\n",
    "    dbc.CardBody(\n",
    "        [\n",
    "            dbc.CardHeader(\n",
    "                [\n",
    "                    html.H2(\"Tweet Timeline - Sentiment\", className=\"text-primary text-start card-title-large align-middle\")\n",
    "                ]\n",
    "            ),\n",
    "            dcc.Graph(\n",
    "                id='tweet-timeline-plot-2',\n",
    "                figure=px.scatter(\n",
    "                    df,\n",
    "                    x=\"date\",\n",
    "                    y=\"count_score\",\n",
    "                    size=\"ball_size\",\n",
    "                    color=\"sentiment\",\n",
    "                    size_max=60,\n",
    "                    labels={\"date\": \"Date\", \"count_score\": \"Count Scaled\"}\n",
    "                )\n",
    "            )\n",
    "        ]\n",
    "    ),\n",
    "    className=\"mb-4\",\n",
    "    style={'width': '95%', 'margin': '0 auto'},\n",
    "    color=\"primary\",\n",
    "    outline=True\n",
    ")\n"
   ]
  },
  {
   "cell_type": "code",
   "execution_count": 96,
   "id": "5aadb73c",
   "metadata": {},
   "outputs": [
    {
     "name": "stdout",
     "output_type": "stream",
     "text": [
      "Dash is running on http://127.0.0.1:8050/\n",
      "\n",
      "Dash app running on http://127.0.0.1:8050/\n"
     ]
    }
   ],
   "source": [
    "from dash import Dash, html, dcc, Input, Output\n",
    "import pandas as pd\n",
    "import plotly.express as px\n",
    "\n",
    "app = JupyterDash(external_stylesheets=[dbc.themes.SKETCHY, dbc.icons.BOOTSTRAP], )\n",
    "\n",
    "    \n",
    "app.layout = html.Div([\n",
    " \n",
    "    html.Div([\n",
    "        \n",
    "        #Card \n",
    "        card_inicial,\n",
    "        \n",
    "        #Row_1\n",
    "        row_1,        \n",
    "        \n",
    "        row_2,\n",
    "        \n",
    "        graf_3_1,\n",
    "\n",
    "    ]),\n",
    "\n",
    "    \n",
    "\n",
    "])\n",
    "if __name__ == \"__main__\":\n",
    "    app.run_server()#mode='inline')"
   ]
  },
  {
   "cell_type": "markdown",
   "id": "2cd34019",
   "metadata": {},
   "source": [
    "### "
   ]
  },
  {
   "cell_type": "code",
   "execution_count": null,
   "id": "ea5bba31-fc8a-4232-9c90-eeeecdbe838e",
   "metadata": {},
   "outputs": [],
   "source": []
  },
  {
   "cell_type": "code",
   "execution_count": null,
   "id": "161225a2-d460-40a8-a755-77b46d37a9ff",
   "metadata": {},
   "outputs": [],
   "source": []
  },
  {
   "cell_type": "code",
   "execution_count": null,
   "id": "969a2a21-d8b6-4815-9b37-a8df9d4f8a9c",
   "metadata": {},
   "outputs": [],
   "source": []
  },
  {
   "cell_type": "code",
   "execution_count": null,
   "id": "d7e79d37-2359-4e07-a34c-5b65a3e66932",
   "metadata": {},
   "outputs": [],
   "source": []
  },
  {
   "cell_type": "code",
   "execution_count": null,
   "id": "2ea4e2ef-7e4a-4f66-b715-00437792e7fa",
   "metadata": {},
   "outputs": [],
   "source": []
  },
  {
   "cell_type": "code",
   "execution_count": null,
   "id": "6f57ad45-5402-42fa-8565-a0535c86d20c",
   "metadata": {},
   "outputs": [],
   "source": []
  },
  {
   "cell_type": "code",
   "execution_count": null,
   "id": "a3d9096a-462f-424d-a183-4de6d415e804",
   "metadata": {},
   "outputs": [],
   "source": []
  },
  {
   "cell_type": "code",
   "execution_count": null,
   "id": "bacb03fd-007c-4d91-ad4b-fbff2f3c6be3",
   "metadata": {},
   "outputs": [],
   "source": []
  },
  {
   "cell_type": "code",
   "execution_count": null,
   "id": "fd3bc70d-0051-47be-9a80-29ad919e901b",
   "metadata": {},
   "outputs": [],
   "source": []
  },
  {
   "cell_type": "code",
   "execution_count": null,
   "id": "d5fbd562-52b5-4616-88a2-0d85b9e35e9d",
   "metadata": {},
   "outputs": [],
   "source": []
  },
  {
   "cell_type": "code",
   "execution_count": null,
   "id": "97eb53c4-63a0-4d04-a0fd-609e7ac9dbfe",
   "metadata": {},
   "outputs": [],
   "source": []
  },
  {
   "cell_type": "code",
   "execution_count": null,
   "id": "2126b496-473a-48bf-8f23-45ca3ae840c2",
   "metadata": {},
   "outputs": [],
   "source": []
  },
  {
   "cell_type": "code",
   "execution_count": null,
   "id": "b6bc6d26-bd06-4389-beb0-1a5e74666adc",
   "metadata": {},
   "outputs": [],
   "source": []
  },
  {
   "cell_type": "code",
   "execution_count": null,
   "id": "190c7c1c-80b7-4e74-a322-f63fda324307",
   "metadata": {},
   "outputs": [],
   "source": []
  }
 ],
 "metadata": {
  "kernelspec": {
   "display_name": "Python 3 (ipykernel)",
   "language": "python",
   "name": "python3"
  },
  "language_info": {
   "codemirror_mode": {
    "name": "ipython",
    "version": 3
   },
   "file_extension": ".py",
   "mimetype": "text/x-python",
   "name": "python",
   "nbconvert_exporter": "python",
   "pygments_lexer": "ipython3",
   "version": "3.9.13"
  }
 },
 "nbformat": 4,
 "nbformat_minor": 5
}

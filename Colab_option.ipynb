{
 "cells": [
  {
   "cell_type": "markdown",
   "id": "fbfcb2a1-c76f-4c24-957e-9369c40ed719",
   "metadata": {},
   "source": [
    "# Requirements"
   ]
  },
  {
   "cell_type": "raw",
   "id": "29dd464e-a654-4118-8cfb-743f936d12c8",
   "metadata": {},
   "source": [
    "!pip install internetarchive"
   ]
  },
  {
   "cell_type": "markdown",
   "id": "492d93c2-4b48-4cf7-a445-89db0a09a599",
   "metadata": {},
   "source": [
    "# Imports"
   ]
  },
  {
   "cell_type": "code",
   "execution_count": 29,
   "id": "7b36d8b9-4b17-4bea-bbfd-a4beb7244d67",
   "metadata": {},
   "outputs": [],
   "source": [
    "import internetarchive\n",
    "import os\n",
    "import tarfile\n",
    "import csv\n",
    "from datetime import datetime\n",
    "from tqdm.notebook import tqdm\n",
    "import pandas as pd\n",
    "import configparser\n",
    "import json"
   ]
  },
  {
   "cell_type": "code",
   "execution_count": 30,
   "id": "3e7c5cad-7e70-46e9-9484-0209505e912e",
   "metadata": {},
   "outputs": [],
   "source": [
    "import warnings\n",
    "\n",
    "# Suppressing the warnings\n",
    "warnings.filterwarnings('ignore') "
   ]
  },
  {
   "cell_type": "markdown",
   "id": "ef408647-f9e9-448b-85ef-9f1772efb9c8",
   "metadata": {},
   "source": [
    "# Functions"
   ]
  },
  {
   "cell_type": "markdown",
   "id": "480c9a17-78f2-4d93-8404-cddb59dd43c9",
   "metadata": {},
   "source": [
    "## General"
   ]
  },
  {
   "cell_type": "code",
   "execution_count": 1,
   "id": "4887335f-3783-4a95-94c1-79c422c428f4",
   "metadata": {},
   "outputs": [],
   "source": [
    "#if you want to use a path that it isn't in the same folder you started your notebook, put the path\n",
    "#in the option complete_path and the folder will be create there\n",
    "\n",
    "def check_folder(name_folder, complete_path = False):            \n",
    "    #Creating folder if that doesn't exist\n",
    "    if local == False:\n",
    "        p = %pwd\n",
    "    else:\n",
    "        p = local\n",
    "    p = p + f'/{name_folder}'\n",
    "    path = os.path.expanduser(p)\n",
    "    if not os.path.exists(path):\n",
    "        os.makedirs(path)\n",
    "        print(\"{} created.\".format(path))\n",
    "        \n",
    "    return path"
   ]
  },
  {
   "cell_type": "code",
   "execution_count": 32,
   "id": "186417d1-fca8-4dcc-907e-da5c3591a4bf",
   "metadata": {},
   "outputs": [],
   "source": [
    "def get_file_name(item_name, ext='*tar'):\n",
    "    \n",
    "    file_names = [f.name for f in internetarchive.get_files(item_name, glob_pattern= ext)]\n",
    "    \n",
    "    return file_names"
   ]
  },
  {
   "cell_type": "code",
   "execution_count": 98,
   "id": "b8224599-ab0a-43db-a4af-63ceaaaf5fac",
   "metadata": {},
   "outputs": [],
   "source": [
    "def humanize(size_bytes):\n",
    "    KB = 1 << 10\n",
    "    MB = 1 << 20\n",
    "    GB = 1 << 30\n",
    "\n",
    "    if size_bytes < KB:\n",
    "        return '{} B'.format(size_bytes)\n",
    "    elif size_bytes < MB:\n",
    "        return '{:.2f} KiB'.format(size_bytes/KB)\n",
    "    elif size_bytes < GB:\n",
    "        return '{:.2f} MiB'.format(size_bytes/MB)\n",
    "    else:\n",
    "        return '{:.2f} GiB'.format(size_bytes/GB)\n"
   ]
  },
  {
   "cell_type": "markdown",
   "id": "91a526cb-8bb0-4bdc-a383-b0e5841cab27",
   "metadata": {},
   "source": [
    "## Cleaning and Transfomations"
   ]
  },
  {
   "cell_type": "code",
   "execution_count": 34,
   "id": "12e37500-3043-48aa-8403-3ac8f136f9ef",
   "metadata": {},
   "outputs": [],
   "source": [
    "def get_data(file_path, file_name, word_bag = False, lang = False, db_update = False):\n",
    "    \n",
    "    #reading json\n",
    "    df = pd.read_json(file_path, lines=True, compression='gzip')\n",
    "    \n",
    "    #updating total tweets\n",
    "    if not update_db == False:\n",
    "        update_db(table = 'control', field = f\"count_total = '{len(df)}'\", condition = f\"name = '{file_name}'\")\n",
    "    \n",
    "    #Filtering language if a language was sent\n",
    "    if not lang == False:\n",
    "        df = df[df.lang == lang]\n",
    "    \n",
    "    #taking away columns unnecessary\n",
    "    df = df.loc[:, ['created_at', 'text', 'entities']]\n",
    "    \n",
    "    #filtering Tweets using subject word bag if a word bag was sent\n",
    "    if not word_bag == False:\n",
    "        bow = '|'.join(word_bag) # bag of word\n",
    "        df = df[df['text'].str.contains(bow, case=False)]\n",
    "        \n",
    "        #updating filtered tweets\n",
    "        if not update_db == False:\n",
    "            update_db(table = 'control', field = f\"count_filtered = '{len(df)}'\", condition = f\"name = '{file_name}'\")\n",
    "    \n",
    "    return df"
   ]
  },
  {
   "cell_type": "markdown",
   "id": "3267d74a-1829-44cf-a53e-f0597320bf1d",
   "metadata": {},
   "source": [
    "## Control Operations"
   ]
  },
  {
   "cell_type": "markdown",
   "id": "b2af3344-6b81-4c18-a504-70041f78d9be",
   "metadata": {},
   "source": [
    "### CSV"
   ]
  },
  {
   "cell_type": "code",
   "execution_count": 35,
   "id": "cc07a036-7be4-41c0-92d4-c4f489a34a71",
   "metadata": {},
   "outputs": [],
   "source": [
    "def create_control_csv(control_path, file_name = 'control.csv', fieldnames=['name','datetime', 'type', 'size' 'count_total', 'count_filtered']):\n",
    "    \n",
    "    control_file = f\"{control_path}/{file_name}\"\n",
    "    \n",
    "    #if file doesn't exist I'll create it\n",
    "    if not os.path.exists(control_file):\n",
    "        with open(control_file, 'w', newline='') as control_csv:\n",
    "            writer = csv.DictWriter(control_csv, fieldnames = fieldnames)\n",
    "            writer.writeheader()\n",
    "        control_csv.close()\n",
    "        print(\"{} created.\".format(control_file))\n",
    "    \n",
    "    return control_file\n",
    "    \n"
   ]
  },
  {
   "cell_type": "code",
   "execution_count": null,
   "id": "54f0c58c-3d5b-445a-9682-cdbcab909544",
   "metadata": {},
   "outputs": [],
   "source": [
    "def read_control():\n",
    "    \n",
    "    #Reading the control file\n",
    "    with open(control_file, 'r', newline='') as control_csv:\n",
    "        reader = csv.DictReader(control_csv)\n",
    "        reader_data = [r for r in reader]\n",
    "        control_csv.seek(0)\n",
    "    control_csv.close()\n",
    "\n",
    "    return reader_data"
   ]
  },
  {
   "cell_type": "code",
   "execution_count": 36,
   "id": "0502fcf3-2628-4ac4-b0d8-6145dac56060",
   "metadata": {},
   "outputs": [],
   "source": [
    "def download_file_csv(item_name, file_name, download_folder = 'Downloads'):\n",
    "    \n",
    "    path = check_folder(download_folder)\n",
    "    \n",
    "    #calling function for getting control file\n",
    "    control_path = path + '/control_download.csv'    \n",
    "    reader_data = control_op_csv(control_path)\n",
    "    \n",
    "    #Getting Itens names\n",
    "    item = internetarchive.get_item(item_name)\n",
    "        \n",
    "    #openning control file to add file names on the list\n",
    "    with open(control_path, 'a', newline='') as control_download:\n",
    "        writer = csv.DictWriter(control_download, fieldnames=['name','datetime'])\n",
    "        \n",
    "        #check if the file has been downloaded before\n",
    "        if not any(row['name'] == file_name for row in reader_data):\n",
    "            \n",
    "            #downloading\n",
    "            r = item.download(\n",
    "                destdir=path,  # The directory to download files to\n",
    "                ignore_existing=True,  # Skip files that already exist locally\n",
    "                checksum=True,  # Skip files based on checksum\n",
    "                verbose=True,  # Print progress to stdout\n",
    "                retries=100,  # The number of times to retry on failed requests\n",
    "                no_directory=True,  # Download withtout the identifier\n",
    "                files = file_name)\n",
    "            \n",
    "            #Adding file name on control list\n",
    "            row = {'name' : file_name, 'datetime': datetime.now().strftime('%Y-%m-%d %H:%M:%S')}\n",
    "            writer.writerow(row)\n",
    "            \n",
    "    control_download.close()\n",
    "    \n",
    "    path_file = path + f'/{file_name}'\n",
    "    \n",
    "    return path_file"
   ]
  },
  {
   "cell_type": "code",
   "execution_count": 37,
   "id": "5ee9268d-0988-4248-9c72-bb22753af55b",
   "metadata": {},
   "outputs": [],
   "source": [
    "def tar_file_csv(tar_file, file_name, extration_folder='Extraction'):\n",
    "\n",
    "    path = check_folder(extration_folder)\n",
    "    \n",
    "    #calling function for getting control file\n",
    "    control_path = path + '/control_extraction.csv'    \n",
    "    reader_data = control_op(control_path)\n",
    "\n",
    "    #openning control file to add file names on the list\n",
    "    with open(control_path, 'a', newline='') as control_tar:\n",
    "        writer = csv.DictWriter(control_tar, fieldnames=['name','datetime'])\n",
    "        \n",
    "        #check if the file has been extrated before\n",
    "        if not any(row['name'] == file_name for row in reader_data):\n",
    "\n",
    "            #Extracting file\n",
    "            tar_file.extract(file_name, path=path)\n",
    "\n",
    "            #Saving files name on control file\n",
    "            row = {'name' : file_name, 'datetime': datetime.now().strftime('%Y-%m-%d %H:%M:%S')}\n",
    "            writer.writerow(row)\n",
    "            \n",
    "            path_file = path + f'/{file_name}'\n",
    "            \n",
    "        else:\n",
    "            \n",
    "            path_file = False\n",
    "    \n",
    "    control_tar.close()\n",
    "    \n",
    "    \n",
    "    return path_file"
   ]
  },
  {
   "cell_type": "markdown",
   "id": "55ee5629-db75-4b84-9840-753eec3876dc",
   "metadata": {
    "tags": []
   },
   "source": [
    "# Code"
   ]
  },
  {
   "cell_type": "code",
   "execution_count": null,
   "id": "0ec715b3-1fec-40b7-b288-1ef456cfca6d",
   "metadata": {
    "tags": []
   },
   "outputs": [],
   "source": [
    "item_name = 'archiveteam-twitter-stream-2022-10'\n",
    "\n",
    "#Getting Itens names\n",
    "file_names = get_file_name(item_name = item_name)#, ext = '*jpg')\n",
    "\n",
    "x = 0 #for testing \n",
    "\n",
    "for dlf in tqdm(file_names, desc='Download progress'):\n",
    "    \n",
    "    #if x < 1: #for testing \n",
    "    #downloading the file\n",
    "    file = download_file_csv(item_name = item_name, file_name = dlf)\n",
    "    \n",
    "    if not file == False:\n",
    "\n",
    "        #Open tar file\n",
    "        tar = tarfile.open(file, \"r\")\n",
    "\n",
    "        #Getting json files' names\n",
    "        tar_file_names = list(filter(lambda t: t.endswith('.json.gz'), tar.getnames()))\n",
    "\n",
    "        for tf in tqdm(tar_file_names, desc='Unzip progress'):\n",
    "\n",
    "            #call funcition to extract files\n",
    "            js = tar_file_csv(tar_file = tar, file_name = tf)\n",
    "\n",
    "            #if the file has already been unzipped that part will be skipped\n",
    "            if not js == False:\n",
    "\n",
    "                #Getting, cleaning and storing Data\n",
    "                bow = ['vaccination', 'vaccines', 'vaccine']\n",
    "                df = get_data(file_path = js, file_name = tf, lang = 'en', word_bag = bow, db_update = True)\n",
    "\n",
    "                if not df.empty:\n",
    "\n",
    "                    conn = open_connection()\n",
    "                    cursor = conn.cursor()\n",
    "\n",
    "                    for index, row in df.iterrows():\n",
    "                        created_at = row['created_at']\n",
    "                        text = row['text']\n",
    "                        entities = json.dumps(row['entities'])\n",
    "\n",
    "                        sql = \"INSERT INTO tweets (created_at, text, entities) VALUES (%s, %s, %s)\"\n",
    "                        cursor.execute(sql, (created_at, text, entities))\n",
    "\n",
    "                        conn.commit()\n",
    "\n",
    "                    cursor.close()\n",
    "                    conn.close()\n",
    "\n",
    "                #deleting json file after processing\n",
    "                os.remove(js)\n",
    "\n",
    "        #closing tar file\n",
    "        tar.close()\n",
    "\n",
    "        #x =+ 1\n",
    "\n",
    "        #removing file downloaded\n",
    "        os.remove(file)\n",
    "        \n",
    "    #"
   ]
  },
  {
   "cell_type": "code",
   "execution_count": null,
   "id": "9ee7672a-b8be-4055-b778-c7e6491647ac",
   "metadata": {},
   "outputs": [],
   "source": []
  },
  {
   "cell_type": "code",
   "execution_count": null,
   "id": "c9d183c2-fb32-4c67-a5ad-ecd949514f37",
   "metadata": {},
   "outputs": [],
   "source": []
  },
  {
   "cell_type": "code",
   "execution_count": null,
   "id": "d1382ba7-fc08-4a8d-a8f7-25952eb18806",
   "metadata": {},
   "outputs": [],
   "source": []
  },
  {
   "cell_type": "code",
   "execution_count": null,
   "id": "7826d8ff-a050-4518-ab39-f1685b8dea87",
   "metadata": {},
   "outputs": [],
   "source": []
  },
  {
   "cell_type": "code",
   "execution_count": null,
   "id": "daaeef65-e454-4b3e-acd2-38a63cda8637",
   "metadata": {},
   "outputs": [],
   "source": []
  },
  {
   "cell_type": "code",
   "execution_count": null,
   "id": "82106eae-3fd7-4abd-a08a-e29e1a9a7575",
   "metadata": {},
   "outputs": [],
   "source": []
  },
  {
   "cell_type": "code",
   "execution_count": null,
   "id": "b1c76fca-06ba-4c6f-a2da-b661ef6fa889",
   "metadata": {},
   "outputs": [],
   "source": []
  },
  {
   "cell_type": "code",
   "execution_count": null,
   "id": "97dfcf98-6453-458c-87f6-ab178dce33c7",
   "metadata": {},
   "outputs": [],
   "source": []
  },
  {
   "cell_type": "code",
   "execution_count": null,
   "id": "5e9822b6-96b6-4d86-9dcd-5087b99cf3ea",
   "metadata": {},
   "outputs": [],
   "source": []
  },
  {
   "cell_type": "code",
   "execution_count": null,
   "id": "4c2966b9-9f12-4b1a-bc3b-4cd40d6669ac",
   "metadata": {},
   "outputs": [],
   "source": []
  },
  {
   "cell_type": "code",
   "execution_count": null,
   "id": "24df4256-e4e0-4a13-847f-1d0e62e5dc1b",
   "metadata": {},
   "outputs": [],
   "source": []
  }
 ],
 "metadata": {
  "kernelspec": {
   "display_name": "Python 3 (ipykernel)",
   "language": "python",
   "name": "python3"
  },
  "language_info": {
   "codemirror_mode": {
    "name": "ipython",
    "version": 3
   },
   "file_extension": ".py",
   "mimetype": "text/x-python",
   "name": "python",
   "nbconvert_exporter": "python",
   "pygments_lexer": "ipython3",
   "version": "3.9.13"
  },
  "toc-autonumbering": true,
  "toc-showcode": true,
  "toc-showmarkdowntxt": true
 },
 "nbformat": 4,
 "nbformat_minor": 5
}

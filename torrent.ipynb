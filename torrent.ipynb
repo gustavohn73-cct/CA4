{
 "cells": [
  {
   "cell_type": "code",
   "execution_count": 1,
   "id": "8711ab46-e380-42ec-8c68-8a8badc54705",
   "metadata": {},
   "outputs": [],
   "source": [
    "import internetarchive\n",
    "\n",
    "def get_file_name(item_name, ext='*tar'):\n",
    "    \n",
    "    file_names = [f.name for f in internetarchive.get_files(item_name, glob_pattern= ext)]\n",
    "    \n",
    "    return file_names"
   ]
  },
  {
   "cell_type": "code",
   "execution_count": 2,
   "id": "196a8813-5d06-4453-bea2-92f7926fdba0",
   "metadata": {},
   "outputs": [],
   "source": [
    "import os\n",
    "\n",
    "def check_folder(name_folder):            \n",
    "    #Creating folder if that doesn't exist\n",
    "    p = %pwd\n",
    "    p = p + f'/{name_folder}'\n",
    "    path = os.path.expanduser(p)\n",
    "    if not os.path.exists(path):\n",
    "        os.makedirs(path)\n",
    "        print(\"{} created.\".format(path))\n",
    "        \n",
    "    return path"
   ]
  },
  {
   "cell_type": "code",
   "execution_count": 5,
   "id": "ce1db1ce-e5b0-4974-8ce8-4701d5f50ad2",
   "metadata": {},
   "outputs": [
    {
     "name": "stderr",
     "output_type": "stream",
     "text": [
      "archiveteam-twitter-stream-2022-03:\n",
      " downloading archiveteam-twitter-stream-2022-03_archive.torrent: 100%|█| 408k/40\n"
     ]
    }
   ],
   "source": [
    "path = check_folder(name_folder = 'download')\n",
    "\n",
    "item_name = 'archiveteam-twitter-stream-2022-03'\n",
    "\n",
    "#getting Itens names\n",
    "item = internetarchive.get_item(item_name)\n",
    "tor_file = get_file_name(item_name, ext='*torrent')\n",
    "\n",
    "#downloading tor file\n",
    "r = item.download(\n",
    "    destdir=path,  # The directory to download files to\n",
    "    ignore_existing=True,  # Skip files that already exist locally\n",
    "    checksum=True,  # Skip files based on checksum\n",
    "    verbose=True,  # Print progress to stdout\n",
    "    retries=100,  # The number of times to retry on failed requests\n",
    "    no_directory=True,  # Download withtout the identifier\n",
    "    files = tor_file)\n",
    "\n",
    "#getting path for tor_file\n",
    "tor = f\"{path}/{tor_file[0]}\"\n"
   ]
  },
  {
   "cell_type": "code",
   "execution_count": 6,
   "id": "6ce704ee-0de8-4531-84d9-16fd4f7909b0",
   "metadata": {},
   "outputs": [],
   "source": [
    "from qbittorrent import Client\n",
    "\n",
    "# connect to the qbittorent Web UI\n",
    "qb = Client(\"http://127.0.0.1:8080/\")\n",
    "\n",
    "# open the torrent file of the file you wanna download\n",
    "torrent_file = open(tor, \"rb\")\n",
    "\n",
    "# start downloading\n",
    "qb.download_from_file(torrent_file, savepath=path)\n",
    "\n",
    "#getting hash\n",
    "t_hash = qb.torrents()[0]['hash']\n",
    "\n",
    "#pausing downloads\n",
    "#qb.pause(t_hash)\n",
    "\n",
    "#getting files\n",
    "files = qb.get_torrent_files(t_hash)\n",
    "\n",
    "#cancelling all files\n",
    "for i in range(len(files)):\n",
    "    qb.set_file_priority(t_hash, i, 0)\n",
    "    \n",
    "#qb.set_file_priority(t_hash, 11, 1)"
   ]
  },
  {
   "cell_type": "code",
   "execution_count": null,
   "id": "6076dc25-c46c-4a35-a421-6f97993e79ed",
   "metadata": {},
   "outputs": [],
   "source": []
  },
  {
   "cell_type": "code",
   "execution_count": null,
   "id": "714754dd-5552-40c0-9993-f7b3dc19948a",
   "metadata": {},
   "outputs": [],
   "source": []
  },
  {
   "cell_type": "code",
   "execution_count": null,
   "id": "ddd13af5-9e52-45c3-aba3-73cb762e1428",
   "metadata": {},
   "outputs": [],
   "source": []
  },
  {
   "cell_type": "code",
   "execution_count": null,
   "id": "1ebddb11-0898-43c5-a791-84bf103b6f49",
   "metadata": {},
   "outputs": [],
   "source": []
  },
  {
   "cell_type": "code",
   "execution_count": null,
   "id": "1ddaad5e-a641-4d2d-998f-c6489f171cf9",
   "metadata": {},
   "outputs": [],
   "source": []
  },
  {
   "cell_type": "code",
   "execution_count": null,
   "id": "9ee37350-a64e-4c31-b55e-d8e2b6f7d560",
   "metadata": {},
   "outputs": [],
   "source": []
  }
 ],
 "metadata": {
  "kernelspec": {
   "display_name": "Python 3 (ipykernel)",
   "language": "python",
   "name": "python3"
  },
  "language_info": {
   "codemirror_mode": {
    "name": "ipython",
    "version": 3
   },
   "file_extension": ".py",
   "mimetype": "text/x-python",
   "name": "python",
   "nbconvert_exporter": "python",
   "pygments_lexer": "ipython3",
   "version": "3.9.13"
  }
 },
 "nbformat": 4,
 "nbformat_minor": 5
}
